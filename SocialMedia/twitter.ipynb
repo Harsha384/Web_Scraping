{
 "cells": [
  {
   "cell_type": "code",
   "execution_count": 11,
   "metadata": {},
   "outputs": [
    {
     "name": "stdout",
     "output_type": "stream",
     "text": [
      "When your #Frappuccino doesn't come with whip #Starbucks #BoycottStarbucks https://t.co/Wf0yMWcfX1\n",
      "RT @FriendlyJMC: So CEO Kevin Johnson of @Starbucks feels shutting stores, inconveniencing customers &amp; possibly costing stock holders is th…\n",
      "Starbucks will close 8,000 stores on May 29 to conduct ‘racial bias training’, and one of the trainers will be . .… https://t.co/soNrRJw8B5\n",
      "@nowthisnews #BoycottStarbucks 🔥\n",
      "My first #BoycottStarbucks breakfast. Until they can do right by these two men they shamefully had arrested in thei… https://t.co/EvJaja8kQ5\n",
      "RT @MollyJongFast: This one’s REALLY gonna hurt. #BoycottStarbucks https://t.co/ScnuwpZy5X\n",
      "On the whole #BoycottStarbucks thing today, doesn't matter too much to me, I always was and always will be a Dunkin… https://t.co/TF7Gsv0TJz\n",
      "RT @misfitsec: #boycottStarbucks\n",
      "@Starbucks Is this your employee Holly Hylton, who called the police on the 2 Black businessmen in the Phi…\n",
      "Once again, on @NBCNightlyNews 2 white women, who were not harmed in any way by @Starbucks racism, asked each other… https://t.co/KRIZ2frlqv\n",
      "Those RACIST GARBAGE WOMEN will still be on the job, looking at Black People like \"nothing happened to MEEEEeeee, L… https://t.co/EsnhqMPLw9\n",
      "Look at how Starbucks deals with pleasant Black customers who just asked to use the bathroom. The punishment is SWI… https://t.co/fOGF5A6fOZ\n",
      ".@Starbucks is on a NONTANGIBLE RESULTS, SATISFY WHITE PEOPLE TOUR. Nothing-Is-Being-Done-SYMBOLISM. If they don't… https://t.co/8oBbgf0BM0\n",
      "#WATCHWHITENESSWORK At 1:12 Here is the footage of 2 white women on @NBCNightlyNews agreeing that @Starbucks is doi… https://t.co/TdAKC3y1uu\n"
     ]
    }
   ],
   "source": [
    "import tweepy\n",
    "\n",
    "ckey=''\n",
    "csecret=''\n",
    "\n",
    "atoken=''\n",
    "asecret=''\n",
    "auth=tweepy.OAuthHandler(ckey,csecret)\n",
    "auth.set_access_token(atoken,asecret)\n",
    "\n",
    "api=tweepy.API(auth)\n",
    "twitter=api.search('BoycottStarbucks')\n",
    "data=[]\n",
    "for text in twitter:\n",
    "    print(text.text)\n",
    "    data.append(text.text)"
   ]
  },
  {
   "cell_type": "code",
   "execution_count": 14,
   "metadata": {
    "collapsed": true
   },
   "outputs": [],
   "source": [
    "import pandas as pd\n",
    "df = pd.DataFrame({'Twitter':data})\n",
    "df.to_csv('t_data.csv')"
   ]
  },
  {
   "cell_type": "code",
   "execution_count": null,
   "metadata": {
    "collapsed": true
   },
   "outputs": [],
   "source": []
  }
 ],
 "metadata": {
  "kernelspec": {
   "display_name": "Python 3",
   "language": "python",
   "name": "python3"
  },
  "language_info": {
   "codemirror_mode": {
    "name": "ipython",
    "version": 3
   },
   "file_extension": ".py",
   "mimetype": "text/x-python",
   "name": "python",
   "nbconvert_exporter": "python",
   "pygments_lexer": "ipython3",
   "version": "3.7.0"
  }
 },
 "nbformat": 4,
 "nbformat_minor": 2
}

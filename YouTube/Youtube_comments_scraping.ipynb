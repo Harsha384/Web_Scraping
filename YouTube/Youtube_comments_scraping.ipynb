{
 "cells": [
  {
   "cell_type": "code",
   "execution_count": null,
   "metadata": {},
   "outputs": [],
   "source": [
    "import lxml\n",
    "import requests\n",
    "import time\n",
    "import sys\n",
    "#import progressbar as PB\n",
    "\n",
    "YOUTUBE_IN_LINK = 'https://www.googleapis.com/youtube/v3/commentThreads?part=snippet&maxResults=100&order=relevance&pageToken={pageToken}&videoId={videoId}&key={key}'\n",
    "YOUTUBE_LINK = 'https://www.googleapis.com/youtube/v3/commentThreads?part=snippet&maxResults=100&order=relevance&videoId={videoId}&key={key}'\n",
    "key = 'key'\n",
    "\n",
    "def commentExtract(videoId):\n",
    "    print (\"Comments downloading\")\n",
    "    page_info = requests.get(YOUTUBE_LINK.format(videoId = videoId, key = key))\n",
    "    while page_info.status_code != 200:\n",
    "        if page_info.status_code != 429:\n",
    "            print (\"Comments disabled\")\n",
    "            sys.exit()\n",
    "\n",
    "        time.sleep(20)\n",
    "        page_info = requests.get(YOUTUBE_LINK.format(videoId = videoId, key = key))\n",
    "\n",
    "    page_info = page_info.json()\n",
    "\n",
    "    comments = []\n",
    "    \n",
    "    for i in range(len(page_info['items'])):\n",
    "        comments.append(page_info['items'][i]['snippet']['topLevelComment']['snippet']['textOriginal'])\n",
    "        \n",
    "    numberofpages=0   \n",
    "   \n",
    "    while numberofpages<25 and 'nextPageToken' in page_info:\n",
    "        \n",
    "        numberofpages=numberofpages+1\n",
    "        temp = page_info\n",
    "        page_info = requests.get(YOUTUBE_IN_LINK.format(videoId = videoId, key = key, pageToken = page_info['nextPageToken']))\n",
    "\n",
    "        while page_info.status_code != 200:\n",
    "            time.sleep(10)\n",
    "            page_info = requests.get(YOUTUBE_IN_LINK.format(videoId = videoId, key = key, pageToken = temp['nextPageToken']))\n",
    "        page_info = page_info.json()\n",
    "\n",
    "        for i in range(len(page_info['items'])):\n",
    "            comments.append(page_info['items'][i]['snippet']['topLevelComment']['snippet']['textOriginal'])\n",
    "           \n",
    "\n",
    "    return comments"
   ]
  },
  {
   "cell_type": "code",
   "execution_count": null,
   "metadata": {},
   "outputs": [],
   "source": [
    "comments=commentExtract(\"sHAkDTlv8fA\")"
   ]
  },
  {
   "cell_type": "code",
   "execution_count": null,
   "metadata": {},
   "outputs": [],
   "source": [
    "import pandas as pd\n",
    "df = pd.DataFrame({'col':comments})\n",
    "df.to_csv('YouTubeComments.csv')"
   ]
  },
  {
   "cell_type": "code",
   "execution_count": null,
   "metadata": {},
   "outputs": [],
   "source": [
    "comments"
   ]
  },
  {
   "cell_type": "markdown",
   "metadata": {},
   "source": [
    "### Cleaning the output"
   ]
  },
  {
   "cell_type": "code",
   "execution_count": null,
   "metadata": {},
   "outputs": [],
   "source": [
    "comment = '\\n'.join(comments)\n",
    "import re\n",
    "def preprocess_text(text):\n",
    "    text = re.sub('((www\\.[^\\s]+)|(https?://[^\\s]+))','URL', text)\n",
    "    text = re.sub('@[^\\s]+','USER', text)\n",
    "    text = text.lower().replace(\"ё\", \"е\")\n",
    "    text = re.sub('[^a-zA-Zа-яА-Я1-9]+', ' ', text)\n",
    "    text = re.sub(' +',' ', text)\n",
    "    return text.strip()\n",
    "data =preprocess_text(comment)"
   ]
  },
  {
   "cell_type": "code",
   "execution_count": null,
   "metadata": {},
   "outputs": [],
   "source": [
    "data # after clean the output"
   ]
  },
  {
   "cell_type": "code",
   "execution_count": null,
   "metadata": {},
   "outputs": [],
   "source": [
    "import pickle\n",
    "\n",
    "with open('Comments_output', 'wb') as fp:\n",
    "    pickle.dump(data, fp) # save to text file"
   ]
  },
  {
   "cell_type": "code",
   "execution_count": null,
   "metadata": {},
   "outputs": [],
   "source": []
  }
 ],
 "metadata": {
  "kernelspec": {
   "display_name": "Python 3",
   "language": "python",
   "name": "python3"
  },
  "language_info": {
   "codemirror_mode": {
    "name": "ipython",
    "version": 3
   },
   "file_extension": ".py",
   "mimetype": "text/x-python",
   "name": "python",
   "nbconvert_exporter": "python",
   "pygments_lexer": "ipython3",
   "version": "3.7.1"
  }
 },
 "nbformat": 4,
 "nbformat_minor": 2
}
